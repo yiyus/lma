{
 "cells": [
  {
   "cell_type": "markdown",
   "id": "4758d1bc",
   "metadata": {},
   "source": [
    "# LMA: Levenberg-Marquardt Algorithm\n",
    "\n",
    "The `LMA` operator implements the Levenberg-Marquardt algorithm, an iterative procedure widely used for solving non-linear least squares problems or for finding roots of non-linear systems of equations. This implementation is designed to be robust, but at the same time provides sensible defaults to facilitate its usage.\n",
    "\n",
    "## Introduction\n",
    "\n",
    "The LMA method interpolates between the more aggressive Gauss-Newton algorithm and the more conservative method of gradient descent.\n",
    "\n",
    "It is an iterative algorithm. Every iteration, the residual and the Jacobian are calculated for a given set of parameters $p$. Then a new guess $p-\\Delta p$ is calculated, such that:\n",
    "\n",
    "$$(J^T J + \\lambda D)\\Delta p = J^T y$$\n",
    "\n",
    "where $J$ is the Jacobian ($J_{ij}=\\partial y_i / \\partial p_j$), $D$ is a diagonal matrix such that $D_{kk} = \\max(\\epsilon(\\lambda), (J^T J)_{kk})$ with $\\epsilon(\\lambda)$ the damping floor (dependent on the damping factor), $y$ is the residual, and $\\lambda$ is the damping factor. The damping factor determines how much the next guess approximates the prediction of the Gauss-Newton algorithm (lower damping factors) or the gradient descent methods (higher damping factors), in effect defining a trust-region.\n",
    "\n",
    "For this new guess, the predicted error reduction is calculated as:\n",
    "\n",
    "$$\\Delta s_p = \\frac{1}{2}(\\Delta p^T J^T y + \\lambda \\Delta p^T D \\Delta p)$$\n",
    "\n",
    "If the ratio of the actual error reduction calculated during the next iteration with respect to this prediction is above a defined limit, the current guess is accepted and the damping factor is decreased. Else, the new guess is rejected and the damping factor is increased.\n",
    "\n",
    "The algorithm finishes once one of these conditions is met, returning the last accepted guess:\n",
    "\n",
    "* Maximum numbers of iterations reached\n",
    "* Residual below specified tolerance\n",
    "* Relative change in parameters or residual below specified tolerance\n",
    "* Stagnation with maximum damping factor\n",
    "\n",
    "### Normalized damping factor\n",
    "\n",
    "A particularity of this LMA implementation is the use of a *normalized damping factor*. The damping factor $\\lambda$ will oscillate between the specified limits $\\lambda_{min}$ and $\\lambda_{max}$, starting with an initial value $\\lambda_0$. The normalized damping factor is calculated as:\n",
    "\n",
    "$$\\lambda_{norm} = \\frac{(\\lambda_{max}-\\lambda_0)(\\lambda-\\lambda_{min})}{(\\lambda_0-\\lambda_{min})(\\lambda_{max}-\\lambda)}$$\n",
    "\n",
    "If $\\lambda_{norm}$ is 1, the initial damping factor is being used. If it is larger, it means that more damping than indicated was necessary, reaching the maximum $\\lambda_{max}$ at infinite; if it is lower, it means that it could be decreased for faster convergence, with the point at 0 corresponding with $\\lambda_{min}$.\n",
    "\n",
    "The usage of normalized damping factors allows to monitor and adjust the effective size of the trust region during successive function calls independently of the actual damping parameters at use.\n",
    "\n",
    "### Adaptive damping floor\n",
    "\n",
    "To enhance numerical stability, particularly when dealing with Jacobian matrices $J$ where $J^T J$ may have very small or zero diagonal elements, this LMA implementation employs an adaptive floor for the diagonal elements of the damping scaling matrix $D$. The floor $\\epsilon(\\lambda)$ is calculated such that it takes the value $\\epsilon_0$ (an arbitrarily small number) when $\\lambda$ is $\\lambda_0$ or lower than $\\lambda_0$ (so, $\\lambda_{norm}≤1$), and it approaches 1 as $\\lambda$ approaches $\\lambda_{max}$.\n",
    "\n",
    "This adaptive mechanism ensures that while a very low floor is used during optimistic (low damping) phases, a more substantial floor (approaching 1) is automatically applied to weak components when high overall damping is required.\n",
    "\n",
    "## Usage\n",
    "\n",
    "### `LMA` Operator\n",
    "\n",
    "    R←{X}f LMA Y\n",
    "\n",
    "`LMA` is a monadic operator, which takes a left operand to return a derived ambivalent function. This derived function allows to minimize a residual function with a known Jacobian using the Levenberg-Marquadt algorithm, given an initial set of parameters. Several configuration options are available, with sensible defaults previously defined.\n",
    "\n",
    "The left operand `f` must be a configuration namespace or a function. Configuration namespaces may define the following configuration parameters:\n",
    "\n",
    "* `toli`: Maximum number of iterations (default `1E3`)\n",
    "* `tols`: Tolerance for the sum of squared residuals (default `⎕CT`)\n",
    "* `tolr`: Tolerance for relative change, either in the solution or the residual (default `⎕CT`)\n",
    "* `tolg`: Tolerance for the gain ratio to accept or reject a step (default `1E¯2`)\n",
    "* `dini`: Initial damping factor for `dnorm=1` (default `1E¯2`)\n",
    "* `dinc`: Increment of damping factor after rejected solution (default `5`)\n",
    "* `ddec`: Decrement of damping factor after accepted solution (default `÷dinc`)\n",
    "* `dmax`: Maximum damping factor (default `÷⎕CT`)\n",
    "* `dmin`: Minimum damping factor (default `÷dmax`)\n",
    "* `dp`: Perturbation applied to parameters for numerical estimation of the Jacobian (default `⎕CT`)\n",
    "* `verbose`: If `1`, print `iter ssr rel dnorm p` each iteration (default `0`)\n",
    "\n",
    "Configuration namespaces may also contain the functions:\n",
    "\n",
    "* `Callback`: Callback function (default `⊢`)\n",
    "* `Eval`: Evaluation function\n",
    "\n",
    "The evaluation function `Eval` must return either the residuals and the Jacobian for the given set of parameters, or only the residuals. Whenever the residual and Jacobian need to be evaluated, the function `Eval` will be called with trial parameters as right argument and left argument `X`, if given (`Eval` will be called monadically if the derived function `f LMA` is called monadically). `Eval` must return either a two elements vector with the residuals in the first element and the Jacobian in the second one, or a vector of residuals, enclosed if they are not simple scalars. If a Jacobian is not returned, a numerical estimation is calculated evaluating the residual function after applying small perturbations to the parameters (as defined by `dp`, which can be a scalar or a vector).\n",
    "\n",
    "The `Callback` function will be called every iteration before checking convergence, with a solution namespace for the current guess as right argument and `X` as left argument, if given (`Callback` will be called monadically if the derived function `f LMA` is called monadically). Its return value is discarded.\n",
    "\n",
    "If `f` is a function, the result is equivalent to using as `f` a namespace with an `Eval` fuction `f`\n",
    "(with default values for the rest of parameters).\n",
    "\n",
    "`Y` must be a vector.\n",
    "The first element of `Y`, or `⊂Y` if `1=≡⍵`, contains the initial guess for the parameters.\n",
    "If the next element of `Y` is a scalar numeric value, it is interpreted as the initial normalized damping factor.\n",
    "Additional elements of `Y` must be configuration namespaces. The final configuration parameters are obtained\n",
    "overwriting the parameters in the namespace given as left operand with those given as right argument from right to left. Default values will be used for non-defined parameters and the `Callback` function, but the `Eval` function must be defined by the user either as left operand `f` or as member of a configuration namespace.\n",
    "\n",
    "The returned value `R` is a solution namespace corresponding to the last accepted solution.\n",
    "A solution namespace is a configuration namespace with all the parameters used when running the algorithm and the additional elements:\n",
    "\n",
    "* `iter`: Number of iterations\n",
    "* `ssr`: Sum of squared residuals\n",
    "* `rel`: Relative change metric\n",
    "* `dnorm`: Normalized damping factor\n",
    "* `p0`: Initial guess\n",
    "* `p`: Accepted guess\n",
    "\n",
    "#### Notes\n",
    "\n",
    "* With the exception of `toli` and `tols`, configuration parameters should be modified only by expert users or in case of convergence problems\n",
    "\n",
    "* The relative change metric `rel` is the minimum relative change between successive accepted solutions either in the the sum of squared residuals or in the parameters themselves\n",
    "\n",
    "* In addition to being used for the definition of default values, `⎕CT` is also the baseline for adaptive floor damping\n",
    "\n",
    "\n",
    "### `LM` Operator\n",
    "\n",
    "`LM` is a simplified version of `LMA`. It is a dyadic operator from which a dydadic function is derived. Usage:\n",
    "\n",
    "    R←X f LM g Y\n",
    "\n",
    "where `f` is a monadic function which returns the residuals and Jacobian given a set of parameters, `g` is a monadic function which takes as argument an `iter ssr rel dnorm p` vector and gets called before every convergence check, `Y` is a two elements vector with the initial guess of parameters and normalized damping factor, and `X` is a vector with the configuration parameters `toli tols tolr tolg dini dinc ddec dmax dmin`. The return value `R` will be an `iter ssr rel dnorm p` vector."
   ]
  },
  {
   "cell_type": "markdown",
   "id": "53c24e6e",
   "metadata": {},
   "source": [
    "## Implementation"
   ]
  },
  {
   "cell_type": "code",
   "execution_count": 1,
   "id": "c7cfd778",
   "metadata": {},
   "outputs": [
    {
     "data": {
      "text/html": [
       "<pre class=\"language-APL\">clear ws\n",
       "</pre>"
      ]
     },
     "execution_count": 1,
     "metadata": {},
     "output_type": "execute_result"
    }
   ],
   "source": [
    ")clear"
   ]
  },
  {
   "cell_type": "code",
   "execution_count": 2,
   "id": "50175f59",
   "metadata": {},
   "outputs": [],
   "source": [
    "]dinput\n",
    "LM←{ti ts tr tg d0 di dd dx dn←⍺ ⋄ p d←⍵               ⍝ Levenberg–Marquardt algorithm\n",
    "\n",
    "    D←((dx-d0)×dn-⍨⊢)÷(d0-dn)×dx-⊢                     ⍝ damping factor normalization(λ)\n",
    "    E←⍺⍺{s←+.×⍨⊃y j←⍺⍺ ⍵ ⋄ s ⍵ y j}                    ⍝ eval(p): sum(error²), parameters, residual, jacobian\n",
    "    A←{s p y j←⍵ ⋄ s p,(t+.×j)(y+.×⍨t←⍉j)}             ⍝ accept(EG output): sum(error²), parameters, JtJ, Jty\n",
    "    \n",
    "    T←{                                                ⍝ try guess(λ)\n",
    "        r⊢←0 ⋄ 11::dx⌊⍵×di ⋄ b←1-÷1⌈d⊢←D ⍵             ⍝     bad guess if domain error\n",
    "        ∆p←jy⌹jj+⍺×⍤1⊢⍵×dj←(⎕CT+b-⎕CT×b)⌈1 1⍉jj        ⍝     change of parameters with adaptive floor\n",
    "        s0←2÷⍨∆p+.×jy+∆p×⍵×dj                          ⍝     predicted error decrement\n",
    "        s1←s-⊃g←E⊢q←p-∆p                               ⍝     actual error decrement\n",
    "        r⊢←(p(-÷⍥(+.×⍨)⊣)q)⌊|s1÷s                      ⍝     relative change in parameters or residuals\n",
    "        (⎕CT>s0)∧⎕CT<s1:dx⌊⍵×di                        ⍝     if no changing, increase damping\n",
    "        (⎕CT≤s0)∧tg≥s1÷s0:dx⌊⍵×di                      ⍝     if diverging, increase damping\n",
    "        dn⌈⍵×dd⊣s p jj jy⊢←A g                         ⍝     accept change, decrease damping\n",
    "    }\n",
    "    C←⍵⍵{                                              ⍝ convergence check(λ_prev, λ)\n",
    "        _←⍺⍺(i⊢←i+1)s r d p                            ⍝     call user function\n",
    "        (ti<i)∨(dx∧.=⍺ ⍵)∨(ts>s)∨(r>0)∧tr>r            ⍝     iterations, max damping, residual, not changing\n",
    "    }\n",
    "    i r←0 ⋄ _←⍵⍵ i s r d p⊣s p jj jy←A E p             ⍝ init\n",
    "    i s r d p⊣(∘.=⍨⍳≢p)T⍣C{11::dx ⋄ D⍣¯1⊢⍵}d           ⍝ return iterations, ssr, change, norm damping, parameters\n",
    "}"
   ]
  },
  {
   "cell_type": "code",
   "execution_count": 3,
   "id": "9824af80",
   "metadata": {},
   "outputs": [],
   "source": [
    "]dinput\n",
    "LMA←{⍺←⊢ ⋄ p←⊃w←⊆⍵ ⋄ 0::⎕SIGNAL ⎕EN                    ⍝ pass signals\n",
    "\n",
    "    n←'d',¨'ini' 'inc' 'dec' 'max' 'min'               ⍝ damping\n",
    "    n←('isrg',⍨¨⊂'tol'),n                              ⍝ tolerances\n",
    "    nc←'ddec' 'dmin'                                   ⍝ computed defaults\n",
    "    nr←'iter' 'ssr' 'rel' 'dnorm' 'p'                  ⍝ results\n",
    "    c←(                                                ⍝ default config\n",
    "        toli:1000 ⋄ tols:⎕CT ⋄ tolr:⎕CT ⋄ tolg:0.01    ⍝     tolerances\n",
    "        dini:0.01 ⋄ dinc:5 ⋄ dmax:÷⎕CT                 ⍝     damping\n",
    "        p0:p ⋄ dp:⎕CT ⋄ verbose:0                      ⍝     init guess, perturbation, logging\n",
    "    )\n",
    "    F←{1((⊂6 0⍕↑),12 ¯5∘⍕¨⍤↓)⍵} ⋄ P←{⎕←F ⍵ ⋄ ⍵}        ⍝ format and print\n",
    "    D←{⍕'sp',¨':',¨(⊂2 5)⌷F ⍵}                         ⍝ display form\n",
    "    J←{⍉↑⍺÷⍨(⍺⍺¨(⊂⍵)+↓↑(-⍳≢⍵)↑¨⍺)-⊆⍺⍺ ⍵}               ⍝ estimate Jacobian\n",
    "\n",
    "    3=⎕NC'⍺⍺':⍺((⍺⍺{⍵.Eval←⍺⍺ ⋄ ⍵}c)∇∇)w               ⍝ ⍺⍺ is Eval function\n",
    "    (1<≢w)∧~2|⎕DR⊃⌽w:⍺((⎕NS ⍺⍺(⊃⌽w))∇∇)¯1↓w            ⍝ non numeric extra argument is config\n",
    "    2<≢w:⎕SIGNAL 11                                    ⍝ wrong argument\n",
    "    \n",
    "    c.CallBack←⊢ ⋄ c←c ⎕NS ⍺⍺ ⋄ c.dnorm←1⊣⍣(1=≢w)⊃⌽w   ⍝ default callback and actual config\n",
    "    _←c ⎕VSET(↑nc)(c ⎕VGET(↑nc)c.(÷dinc dmax))         ⍝ computed defaults\n",
    "    C←⍺{⍺⍺ c.CallBack c ⎕VSET(↑nr)⍵}P⍣(c.verbose≢0)    ⍝ callback function\n",
    "    E←⍺∘c.Eval{(1<≡e)∧2=≢e←⍺⍺ ⍵:e ⋄ (⊃⊆e)(⍺ ⍺⍺ J ⍵)}   ⍝ eval function\n",
    "    c⊣c.⎕DF D(c ⎕VGET↑n)(c.dp∘E)LM C p c.dnorm         ⍝ return namespace\n",
    "}"
   ]
  },
  {
   "cell_type": "markdown",
   "id": "54597aa1",
   "metadata": {},
   "source": [
    "### Tests"
   ]
  },
  {
   "cell_type": "code",
   "execution_count": 4,
   "id": "40136c6a",
   "metadata": {},
   "outputs": [],
   "source": [
    "]dinput\n",
    "Test←{0::⎕EM ⎕SIGNAL ⎕EN\n",
    "    t←()\n",
    "    ⍝ Tests ability to navigate sharp, narrow valleys and handle situations where the Jacobian\n",
    "    ⍝ may lead to a locally rank-deficient J^T J matrix (eg. zero diagonal elements), requiring\n",
    "    ⍝ robust damping\n",
    "    t.Beale←{⎕CT←1e¯10\n",
    "        B←{\n",
    "            x y←⍵ ⋄ (1.5 2.25 2.625-x×1-y*⍳3)[(¯1+y)x ⋄ (¯1+y*2)(2×x×y) ⋄ (¯1+y*3)(3×x×y*2)]\n",
    "        }\n",
    "        r←3 0.5 CMP(R B #.LMA 1 0.8).p                                ⍝ easy\n",
    "        r,←3 0.5 CMP(R B #.LMA 1 1).p                                 ⍝ singular Jt J\n",
    "        r,←3 0.5 CMP(R B #.LMA 0 0).p                                 ⍝ another tricky point\n",
    "        r,←3 0.5 CMP(R B #.LMA 1 ¯2).p                                ⍝ different quadrant\n",
    "        r,←(B #.LMA(2 2)(toli:1)).ssr>(R B #.LMA 2 2).ssr             ⍝ closer to another local minimum\n",
    "        r,←(B #.LMA(¯1 1)(toli:1)).ssr>(R B #.LMA ¯1 1).ssr           ⍝ closer to another local minimum\n",
    "        r\n",
    "    }\n",
    "    ⍝ numerical approximation of the Jacobian\n",
    "    t.BealeNum←{⎕CT←1e¯10\n",
    "        B←{\n",
    "            x y←⍵ ⋄ (1.5 2.25 2.625-x×1-y*⍳3)\n",
    "        }\n",
    "        r←3 0.5 CMP(R B #.LMA 1 0.8).p                                ⍝ easy\n",
    "        r,←3 0.5 CMP(R B #.LMA 1 1).p                                 ⍝ singular Jt J\n",
    "        r,←3 0.5 CMP(R B #.LMA 0 0).p                                 ⍝ another tricky point\n",
    "        r,←3 0.5 CMP(R B #.LMA 1 ¯2).p                                ⍝ different quadrant\n",
    "        r,←(B #.LMA(2 2)(toli:1)).ssr>(R B #.LMA 2 2).ssr             ⍝ closer to another local minimum\n",
    "        r,←(B #.LMA(¯1 1)(toli:1)).ssr>(R B #.LMA ¯1 1).ssr           ⍝ closer to another local minimum\n",
    "        r\n",
    "    }\n",
    "    ⍝ Assesses capability to follow a long, narrow, curving multi-dimensional valley, testing\n",
    "    ⍝ the interplay between step length and direction adjustments controlled by the damping factor\n",
    "    t.Helical←{\n",
    "        T←{1|1+(12○⍺+0j1×⍵)÷○2} ⋄ M←{|⍺+0j1×⍵}\n",
    "        H←{\n",
    "            a b c←⍵ ⋄ m←a M b ⋄ y←(10×c-10×a T b)(10×m-1)c\n",
    "            y[((50×b)÷○+.×⍨a b)(-(50×a)÷○+.×⍨a b)10 ⋄ (10×a÷m)(10×b÷m)0 ⋄ 0 0 1]\n",
    "        }\n",
    "        r←1 0 0 CMP(R H #.LMA¯1 0 0).p                                ⍝ standard starting point\n",
    "        r,←1 0 0 CMP(R H #.LMA¯1.2 0.1 0.1).p                         ⍝ slightly perturbed\n",
    "        r,←1 0 0 CMP(R H #.LMA¯0.9 ¯0.05 ¯0.05).p                     ⍝ in other direction\n",
    "        r,←1 0 0 CMP(R H #.LMA 0.5 ¯0.5 0.5).p                        ⍝ qualitatively different\n",
    "        r,←1 0 0 CMP(R H #.LMA¯0.5 0.5 ¯0.5).p                        ⍝ another one\n",
    "        r,←1 0 0 CMP(R H #.LMA¯1 0 10).p                              ⍝ far off in 3rd dimension\n",
    "        r,←1 0 0 CMP(R H #.LMA¯1 0 ¯10).p                             ⍝ far off in 3rd dimension\n",
    "        r,←1 0 0 CMP(R H #.LMA 3 4 5).p                               ⍝ away in all components\n",
    "        r\n",
    "    }\n",
    "    ⍝ Verifies efficiency and correctness for a linear system. Converge shoud be very fast\n",
    "    ⍝ (1 or 2 iterations) with minimal damping, demonstrating Gauss-Newton like behavior\n",
    "    t.Linear←{\n",
    "        y←(A←?100 10⍴0)+.×x←⍳10 ⋄ s←R{(y-⍨A+.×⍵)A}#.LMA(?10⍴0)0 ⋄ (1=s.iter),(⍳10)CMP s.p\n",
    "    }\n",
    "    ⍝ numerical approximation of the Jacobian\n",
    "    t.LinearNum←{\n",
    "        y←(A←?100 5⍴0)+.×x←⍳5 ⋄ s←R{y-⍨A+.×⍵}#.LMA(?5⍴0)0 ⋄ (⍳5)CMP s.p\n",
    "    }\n",
    "    ⍝ Evaluates LMA's robustness and ability to converge to a solution when the Jacobian\n",
    "    ⍝ becomes singular (rank-deficient) at or near the optimum\n",
    "    t.Powell←{\n",
    "        P←{\n",
    "            a b c d←⍵ ⋄ r5 r10←5 10*÷2 ⋄ y←(a+10×b)(r5×c-d)(×⍨b-2×c)(r10××⍨a-d)\n",
    "            y[1 10 0 0 ⋄ 0 0 r5(-r5) ⋄ 0(2×b-2×c)(-2×b-2×c)0 ⋄ (2×r10×a-d)0 0(-2×r10×a-d)]\n",
    "        }\n",
    "        r←(4⍴0)CMP(R P #.LMA(3 ¯1 0 1)(tols:1e¯30)).p                 ⍝ standard starting point\n",
    "        r,←(4⍴0)CMP(R P #.LMA(0 0 0 0)(tols:1e¯30)).p                 ⍝ solution (convergence at zero step)\n",
    "        r,←(4⍴0)CMP(R P #.LMA(1 1 1 1)(tols:1e¯30)).p                 ⍝ far from solution\n",
    "        r\n",
    "    }\n",
    "    ⍝ Tests LMA's performance in minimizing a classic non-linear function characterized by\n",
    "    ⍝ a deep, narrow, banana-shaped valley, requiring effective adaptation of search\n",
    "    ⍝ direction and step size\n",
    "    Rosenbrock←{p q←⍵ ⋄ ((10×q-×⍨p),1-p)[(-20×p)10 ⋄ ¯1 0]}\n",
    "    t.Rosenbrock←{\n",
    "        r←1 1 CMP(R #.Rosenbrock #.LMA 1.5 1.5).p                     ⍝ close to the solution\n",
    "        r,←1 1 CMP(R #.Rosenbrock #.LMA 2 1).p                        ⍝ not so close\n",
    "        r,←1 1 CMP(R #.Rosenbrock #.LMA 0 0).p                        ⍝ outside of parabollic valley\n",
    "        r,←1 1 CMP(R #.Rosenbrock #.LMA ¯1.2 1).p                     ⍝ further\n",
    "        r,←1 1 CMP(R #.Rosenbrock #.LMA ¯2 ¯2).p                      ⍝ far and wrongly pointed gradient\n",
    "        r,←1 1 CMP(R #.Rosenbrock #.LMA 2 2).p                        ⍝ far and wrongly pointed gradient\n",
    "        r\n",
    "    }\n",
    "    ⍝ numerical approximation of the Jacobian\n",
    "    t.RosenbrockNum←{\n",
    "        r←1 1 CMP(R⊃⍤#.Rosenbrock #.LMA 1.5 1.5).p                    ⍝ close to the solution\n",
    "        r,←1 1 CMP(R⊃⍤#.Rosenbrock #.LMA 2 1).p                       ⍝ not so close\n",
    "        r,←1 1 CMP(R⊃⍤#.Rosenbrock #.LMA 0 0).p                       ⍝ outside of parabollic valley\n",
    "        r,←1 1 CMP(R⊃⍤#.Rosenbrock #.LMA ¯1.2 1).p                    ⍝ further\n",
    "        r,←1 1 CMP(R⊃⍤#.Rosenbrock #.LMA ¯2 ¯2).p                     ⍝ far and wrongly pointed gradient\n",
    "        r,←1 1 CMP(R⊃⍤#.Rosenbrock #.LMA 2 2).p                       ⍝ far and wrongly pointed gradient\n",
    "        r\n",
    "    }\n",
    "    ⍝ Check that algorithm finishes on termination conditions\n",
    "    t.Terminate←{\n",
    "        r←(R #.Rosenbrock #.LMA(0 0)(tols:0 ⋄ tolr:0)).(iter>toli)              ⍝ number of iterations\n",
    "        r,←(R #.Rosenbrock #.LMA(0 0)(tols:0)).(rel<tolr)                       ⍝ relative change\n",
    "        r,←(R #.Rosenbrock #.LMA(0 0)(tols:0 ⋄ dmax:1e6)).((dnorm>1e6)∧rel=0)   ⍝ maximum damping\n",
    "        r\n",
    "    }\n",
    "    ⍺←1e¯6 ⋄ tol←⍺ ⋄ CMP←{tol>|⍺-⍵} ⋄ R←{⎕←(10↑''),⍵.((6 0⍕iter),(12 ¯5⍕ssr),p) ⋄ ⍵}\n",
    "    (t⎕NS'tol' 'CMP' 'R'){⎕←⍵ ⋄ 0∊⍺⍎⍵,'⍬':('TEST FAILED: ',⍵)⎕SIGNAL 8 ⋄ _←0}¨(↓t.⎕NL 3)⊣⍣(⍵≡'*')⊆⍵\n",
    "}"
   ]
  },
  {
   "cell_type": "code",
   "execution_count": 5,
   "id": "ccf7d8b6",
   "metadata": {
    "scrolled": false
   },
   "outputs": [
    {
     "data": {
      "text/html": [
       "<pre class=\"language-APL\">Beale        \n",
       "               6 6.8539E¯21  3 0.4999999999\n",
       "               9 2.9291E¯21  3 0.5\n",
       "              32 6.2363E¯17  2.99999998 0.4999999949\n",
       "               8 5.2033E¯19  3 0.5\n",
       "             842 4.5211E¯1   ¯15356.11978 1.000064535\n",
       "             840 4.5211E¯1   ¯15356.14972 1.000064535\n",
       "BealeNum     \n",
       "               8 9.8409E¯18  3 0.5000000006\n",
       "               9 9.8960E¯15  2.999999964 0.5000000115\n",
       "              33 2.4618E¯16  2.999999991 0.5000000011\n",
       "               9 9.0815E¯18  2.999999996 0.4999999996\n",
       "              66 6.0792E¯1   ¯9.386917068 1.096824751\n",
       "              56 5.5962E¯1   ¯13.7892706 1.067654204\n",
       "Helical      \n",
       "              10 1.1919E¯19  1 2.177303483E¯10 3.448140016E¯10\n",
       "              10 1.1846E¯19  1 2.170636163E¯10 3.437591012E¯10\n",
       "               8 4.6695E¯19  1 4.309357625E¯10 6.82517468E¯10\n",
       "              14 4.6833E¯20  1 1.364817538E¯10 2.161410116E¯10\n",
       "              12 1.5718E¯20  1 7.90691E¯11 1.252178359E¯10\n",
       "              24 2.7419E¯20  1 1.044305611E¯10 1.65382662E¯10\n",
       "              21 8.5502E¯15  1 5.82997047E¯8 9.234613263E¯8\n",
       "              10 3.6281E¯20  1 1.201260465E¯10 1.902399678E¯10\n",
       "Linear       \n",
       "               1 1.8514E¯24  1 2 3 4 5 6 7 8 9 10\n",
       "LinearNum    \n",
       "               7 2.0406E¯14  1.000000012 1.999999985 3.000000028 3.999999987 4.99999997\n",
       "Powell       \n",
       "              99 9.8312E¯31  2.241601808E¯8 ¯2.241601808E¯9 1.446057221E¯8 1.446057221E¯8\n",
       "               1 0.0000E0    0 0 0 0\n",
       "              97 9.8174E¯31  ¯2.241693431E¯8 2.241693431E¯9 ¯1.445422286E¯8 ¯1.445422286E¯8\n",
       "Rosenbrock   \n",
       "               8 7.4732E¯15  1.000000086 1.00000017\n",
       "              12 7.8195E¯15  1.000000088 1.000000174\n",
       "              32 5.1271E¯15  0.999999929 0.999999857\n",
       "              28 4.8548E¯15  0.9999999309 0.9999998609\n",
       "              18 5.1595E¯15  0.9999999287 0.9999998566\n",
       "              14 8.0558E¯15  1.000000089 1.000000176\n",
       "RosenbrockNum\n",
       "              12 1.5737E¯14  1.000000069 1.000000127\n",
       "              14 4.5525E¯15  1.000000045 1.000000085\n",
       "              33 1.2191E¯20  1 1\n",
       "              28 2.4615E¯15  0.9999999589 0.9999999151\n",
       "              16 1.7653E¯15  0.9999999642 0.9999999262\n",
       "              19 1.8684E¯14  1.000000074 1.000000137\n",
       "Terminate    \n",
       "            1001 0.0000E0    1 1\n",
       "              34 1.4249E¯29  1 1\n",
       "              13 1.0000E0    0 0\n",
       "</pre>"
      ]
     },
     "execution_count": 5,
     "metadata": {},
     "output_type": "execute_result"
    }
   ],
   "source": [
    "Test'*'"
   ]
  },
  {
   "cell_type": "code",
   "execution_count": 6,
   "id": "bc2f2e54",
   "metadata": {
    "scrolled": true
   },
   "outputs": [],
   "source": [
    "] _←link.export -overwrite # APLSource"
   ]
  },
  {
   "cell_type": "markdown",
   "id": "b46f012a",
   "metadata": {},
   "source": [
    "## Examples"
   ]
  },
  {
   "cell_type": "code",
   "execution_count": 7,
   "id": "9ffd36d9",
   "metadata": {},
   "outputs": [],
   "source": [
    "NOISY←{⍵+⍺×0.5-⍨?0⍴⍨≢⍵}"
   ]
  },
  {
   "cell_type": "markdown",
   "id": "cfca6eda",
   "metadata": {},
   "source": [
    "### Exponential decay"
   ]
  },
  {
   "cell_type": "code",
   "execution_count": 8,
   "id": "9e55fb4c",
   "metadata": {},
   "outputs": [
    {
     "data": {
      "text/html": [
       "<pre class=\"language-APL\">┌──────────────────────────────────────────────────────────────────────────────────────┐\n",
       "│  0.00000  1.00000 2.00000 3.00000  4.00000  5.00000 6.00000  7.00000  8.00000 9.00000│\n",
       "│ 10.92911  6.95210 4.73781 3.31780  2.33215  1.77329 1.51348  1.22164  1.13532 1.18606│\n",
       "│ 11.00000  7.06531 4.67879 3.23130  2.35335  1.82085 1.49787  1.30197  1.18316 1.11109│\n",
       "│ ¯0.07089 ¯0.11321 0.05902 0.08649 ¯0.02120 ¯0.04756 0.01561 ¯0.08034 ¯0.04784 0.07497│\n",
       "└──────────────────────────────────────────────────────────────────────────────────────┘\n",
       "</pre>"
      ]
     },
     "execution_count": 8,
     "metadata": {},
     "output_type": "execute_result"
    },
    {
     "data": {
      "text/html": [
       "<pre class=\"language-APL\">┌─┬─────────────┬───────────────┬──────────────┬────────────────────────────────────┐\n",
       "│6│0.03578835187│3.382192234E¯19│0.000319999999│9.927273403 0.4929284896 0.977406695│\n",
       "└─┴─────────────┴───────────────┴──────────────┴────────────────────────────────────┘\n",
       "</pre>"
      ]
     },
     "execution_count": 8,
     "metadata": {},
     "output_type": "execute_result"
    },
    {
     "data": {
      "text/html": [
       "<pre class=\"language-APL\">      0   4.9910E1      0.0000E0      1.0000E0      5.0000E0    1.0000E¯1   5.0000E¯1  \n",
       "      1   2.3805E1      2.6184E¯1     1.0000E0      6.5107E0    3.7739E¯1   2.5627E0   \n",
       "      2   2.4937E¯1     2.5207E¯1     2.0000E¯1     9.7272E0    5.4444E¯1   1.1473E0   \n",
       "      3   4.0897E¯2     6.2711E¯4     4.0000E¯2     9.9097E0    4.9014E¯1   9.9209E¯1  \n",
       "      4   3.5788E¯2     5.3168E¯6     8.0000E¯3     9.9272E0    4.9293E¯1   9.7746E¯1  \n",
       "      5   3.5788E¯2     7.8368E¯11    1.6000E¯3     9.9273E0    4.9293E¯1   9.7741E¯1  \n",
       "      6   3.5788E¯2     3.3822E¯19    3.2000E¯4     9.9273E0    4.9293E¯1   9.7741E¯1  \n",
       " s: 3.5788E¯2    p: 9.9273E0    4.9293E¯1   9.7741E¯1\n",
       "</pre>"
      ]
     },
     "execution_count": 8,
     "metadata": {},
     "output_type": "execute_result"
    }
   ],
   "source": [
    "ExpDec←{A k C←⍺ ⋄ C+A×*-k×⍵} ⋄ ExpDecEv←{x y←⍺ ⋄ A k C←⍵ ⋄ xe←A×x×e←*-k×x ⋄ (y-⍵ ExpDec x)(⍉(-e)⍪xe⍪⍉⍪-=⍨e)}\n",
    "p←10 0.5 1 ⋄ y←0.25 NOISY p ExpDec x←(⍳10)-1 ⋄ ⊂5⍕↑x y(p ExpDec x)(⊃x y ExpDecEv p)\n",
    "1e6 ⎕CT ⎕CT 1e¯2 1e¯2 5(÷5)(÷⎕CT)⎕CT(x y∘ExpDecEv)LM⊢(5 0.1 0.5)1 ⍝ ti ts tr tg d0 di dd dx dn\n",
    "⊢s←x y∘ExpDecEv LMA(5 0.1 0.5)(verbose:1)"
   ]
  },
  {
   "cell_type": "code",
   "execution_count": 9,
   "id": "dad45bfe",
   "metadata": {},
   "outputs": [
    {
     "data": {
      "text/html": [
       "<pre class=\"language-APL\"> s: 3.5788E¯2    p: 9.9273E0    4.9293E¯1   9.7741E¯1\n",
       "</pre>"
      ]
     },
     "execution_count": 9,
     "metadata": {},
     "output_type": "execute_result"
    },
    {
     "data": {
      "text/html": [
       "<pre class=\"language-APL\"> s: 3.5788E¯2    p: 9.9273E0    4.9293E¯1   9.7741E¯1\n",
       "</pre>"
      ]
     },
     "execution_count": 9,
     "metadata": {},
     "output_type": "execute_result"
    }
   ],
   "source": [
    "⊢ed←x y ExpDecEv LMA⊂5 0.1 0.5\n",
    "x y(ed LMA)ed.p0"
   ]
  },
  {
   "cell_type": "code",
   "execution_count": 10,
   "id": "d79e2bd7",
   "metadata": {
    "scrolled": false
   },
   "outputs": [
    {
     "data": {
      "text/html": [
       "<pre class=\"language-APL\">      0   4.9910E1      0.0000E0      1.0000E0      5.0000E0    1.0000E¯1   5.0000E¯1  \n",
       "      1   2.3805E1      2.6184E¯1     1.0000E0      6.5107E0    3.7739E¯1   2.5627E0   \n",
       "      2   2.4937E¯1     2.5207E¯1     2.0000E¯1     9.7272E0    5.4444E¯1   1.1473E0   \n",
       "      3   4.0897E¯2     6.2711E¯4     4.0000E¯2     9.9097E0    4.9014E¯1   9.9209E¯1  \n",
       "      4   3.5788E¯2     5.3168E¯6     8.0000E¯3     9.9272E0    4.9293E¯1   9.7746E¯1  \n",
       "      5   3.5788E¯2     7.8368E¯11    1.6000E¯3     9.9273E0    4.9293E¯1   9.7741E¯1  \n",
       "      6   3.5788E¯2     3.3822E¯19    3.2000E¯4     9.9273E0    4.9293E¯1   9.7741E¯1  \n",
       " s: 3.5788E¯2    p: 9.9273E0    4.9293E¯1   9.7741E¯1\n",
       "</pre>"
      ]
     },
     "execution_count": 10,
     "metadata": {},
     "output_type": "execute_result"
    }
   ],
   "source": [
    "x y(ed LMA)ed.p0(verbose:1)"
   ]
  },
  {
   "cell_type": "code",
   "execution_count": 11,
   "id": "573c96a7",
   "metadata": {
    "scrolled": false
   },
   "outputs": [
    {
     "data": {
      "text/html": [
       "<pre class=\"language-APL\"> s: 3.5789E¯2    p: 9.9275E0    4.9297E¯1   9.7744E¯1\n",
       "</pre>"
      ]
     },
     "execution_count": 11,
     "metadata": {},
     "output_type": "execute_result"
    }
   ],
   "source": [
    "⊢s←x y{x y←⍺ ⋄ y-⍵ ExpDec x}LMA(5 0.1 0.5)"
   ]
  },
  {
   "cell_type": "markdown",
   "id": "6e592f13",
   "metadata": {},
   "source": [
    "### Linear system"
   ]
  },
  {
   "cell_type": "code",
   "execution_count": 12,
   "id": "c8025bcb",
   "metadata": {},
   "outputs": [
    {
     "data": {
      "text/html": [
       "<pre class=\"language-APL\">┌────────────────────────────────────────────────────────────────────────────────────────┐\n",
       "│  0.00000  1.00000 2.00000 3.00000  4.00000  5.00000  6.00000  7.00000  8.00000  9.00000│\n",
       "│  0.09959  2.09998 4.10008 6.10035  8.09961 10.10012 12.09971 14.09960 16.09993 18.09962│\n",
       "│  0.10000  2.10000 4.10000 6.10000  8.10000 10.10000 12.10000 14.10000 16.10000 18.10000│\n",
       "│ ¯0.00041 ¯0.00002 0.00008 0.00035 ¯0.00039  0.00012 ¯0.00029 ¯0.00040 ¯0.00007 ¯0.00038│\n",
       "└────────────────────────────────────────────────────────────────────────────────────────┘\n",
       "</pre>"
      ]
     },
     "execution_count": 12,
     "metadata": {},
     "output_type": "execute_result"
    },
    {
     "data": {
      "text/html": [
       "<pre class=\"language-APL\">      0   1.1581E3      0.0000E0      1.0000E0      0.0000E0    0.0000E0   \n",
       "      1   1.1581E3      0.0000E0      1.0000E0      0.0000E0    0.0000E0   \n",
       "      2   1.1581E3      0.0000E0      1.0000E3      0.0000E0    0.0000E0   \n",
       "      3   1.1581E3      0.0000E0      1.0000E6      0.0000E0    0.0000E0   \n",
       "      4   1.1581E3      0.0000E0      1.0000E9      0.0000E0    0.0000E0   \n",
       "      5   1.1581E3      3.4300E¯10    1.0001E12     9.0999E¯10  2.0158E¯10 \n",
       "      6   1.1581E3      3.4300E¯7     1.0000E9      9.1090E¯7   2.0178E¯7  \n",
       "      7   1.1577E3      3.4291E¯4     1.0000E6      9.1071E¯4   2.0174E¯4  \n",
       "      8   8.4792E2      2.6756E¯1     1.0000E3      7.5749E¯1   1.7256E¯1  \n",
       "      9   3.2731E¯1     9.9961E¯1     1.0000E0      3.8705E¯1   1.9370E0   \n",
       "     10   6.1194E¯7     2.2137E¯2     1.0000E¯3     9.9984E¯2   2.0000E0   \n",
       "     11   6.1070E¯7     1.0033E¯10    1.0000E¯6     9.9964E¯2   2.0000E0   \n",
       "     12   6.1070E¯7     4.1117E¯25    9.9900E¯10    9.9964E¯2   2.0000E0   \n",
       " s: 6.1070E¯7    p: 9.9964E¯2   2.0000E0\n",
       "</pre>"
      ]
     },
     "execution_count": 12,
     "metadata": {},
     "output_type": "execute_result"
    }
   ],
   "source": [
    "Linear←{a b←⍺ ⋄ a+b×⍵} ⋄ LinearEv←{(y-⍵ Linear x)(⍉↑-(=⍨x)x)}\n",
    "p←0.1 2 ⋄ y←1e¯3 NOISY p Linear x←(⍳10)-1 ⋄ ⊂5⍕↑x y(p Linear x)(⊃LinearEv p)\n",
    "LinearEv LMA(0 0)(dinc:1e3 ⋄ verbose:1)"
   ]
  },
  {
   "cell_type": "markdown",
   "id": "c7b41fc5",
   "metadata": {},
   "source": [
    "### Gauss function"
   ]
  },
  {
   "cell_type": "code",
   "execution_count": 13,
   "id": "f4008b0f",
   "metadata": {
    "scrolled": true
   },
   "outputs": [
    {
     "data": {
      "text/html": [
       "<pre class=\"language-APL\">┌─────────────────────────────────────────────────────────────────────────────────────┐\n",
       "│  0.00000  1.00000  2.00000  3.00000  4.00000 5.00000 6.00000 7.00000 8.00000 9.00000│\n",
       "│ 11.55997 11.95012 11.95012 11.55997 10.82497 9.82705 8.66977 7.46074 6.29557 5.24652│\n",
       "│ 11.55997 11.95012 11.95012 11.55997 10.82497 9.82705 8.66977 7.46074 6.29557 5.24652│\n",
       "│  0.00000  0.00000  0.00000  0.00000  0.00000 0.00000 0.00000 0.00000 0.00000 0.00000│\n",
       "└─────────────────────────────────────────────────────────────────────────────────────┘\n",
       "</pre>"
      ]
     },
     "execution_count": 13,
     "metadata": {},
     "output_type": "execute_result"
    },
    {
     "data": {
      "text/html": [
       "<pre class=\"language-APL\">┌──┬───────────┬───────────────┬──────────┬───────────────────────────────────────────────┐\n",
       "│18│3.779645742│1.377060143E¯15│1220703140│8.921655369 3.871347834 2.623807742 3.046908918│\n",
       "└──┴───────────┴───────────────┴──────────┴───────────────────────────────────────────────┘\n",
       "</pre>"
      ]
     },
     "execution_count": 13,
     "metadata": {},
     "output_type": "execute_result"
    },
    {
     "data": {
      "text/html": [
       "<pre class=\"language-APL\">┌──┬───────────┬───────────────┬─────────┬───────────────────────────────────────────────┐\n",
       "│18│3.779645742│1.377060143E¯15│122070314│8.921655369 3.871347834 2.623807742 3.046908918│\n",
       "└──┴───────────┴───────────────┴─────────┴───────────────────────────────────────────────┘\n",
       "</pre>"
      ]
     },
     "execution_count": 13,
     "metadata": {},
     "output_type": "execute_result"
    },
    {
     "data": {
      "text/html": [
       "<pre class=\"language-APL\">┌─┬────────────┬───────────────┬──┬───────────────────────────────────────────────┐\n",
       "│7│0.9170106519│0.0007211535235│25│9.471886955 4.249297788 2.168664717 2.526269831│\n",
       "└─┴────────────┴───────────────┴──┴───────────────────────────────────────────────┘\n",
       "</pre>"
      ]
     },
     "execution_count": 13,
     "metadata": {},
     "output_type": "execute_result"
    }
   ],
   "source": [
    "Gauss←{a s m c←⍺ ⋄ c+a×m s X ⍵} ⋄ X←{m s←⍺ ⋄ *-(×⍨⍵-m)÷(2××⍨s)}\n",
    "GaussEv←{x y←⍺ ⋄ a s m c←⍵ ⋄ x2←(x1←(xe←m s X x)×a×(x-m)÷×⍨s)×(x-m)÷s ⋄ (y-⍵ Gauss x)(⍉↑(-xe)x1(-x2)(-=⍨xe))}\n",
    "p←10 5 1.5 2 ⋄ y←0 NOISY p Gauss x←(⍳10)-1 ⋄ ⊂5⍕↑x y(p Gauss x)(⊃x y GaussEv p)\n",
    "(x y GaussEv LMA(8 4 1 1)(dini:1e¯3 ⋄ tols:1e¯6)).(iter ssr rel dnorm p)\n",
    "(x y GaussEv LMA(8 4 1 1)1e¯1(tols:1e¯6)).(iter ssr rel dnorm p)\n",
    "(x y GaussEv LMA(8 4.5 1.2 1.5)(tolr:1e¯3)).(iter ssr rel dnorm p)"
   ]
  }
 ],
 "metadata": {
  "kernelspec": {
   "display_name": "Dyalog APL",
   "language": "apl",
   "name": "dyalog_apl"
  },
  "language_info": {
   "file_extension": ".apl",
   "mimetype": "text/apl",
   "name": "APL"
  }
 },
 "nbformat": 4,
 "nbformat_minor": 5
}
